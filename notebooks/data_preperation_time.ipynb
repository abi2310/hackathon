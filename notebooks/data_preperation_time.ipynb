{
 "cells": [
  {
   "cell_type": "code",
   "execution_count": 58,
   "id": "c2e83b3c",
   "metadata": {},
   "outputs": [],
   "source": [
    "import pandas as pd \n",
    "import matplotlib.pyplot as plt \n",
    "import numpy as np"
   ]
  },
  {
   "cell_type": "code",
   "execution_count": 59,
   "id": "ac18ec42",
   "metadata": {},
   "outputs": [
    {
     "data": {
      "text/html": [
       "<div>\n",
       "<style scoped>\n",
       "    .dataframe tbody tr th:only-of-type {\n",
       "        vertical-align: middle;\n",
       "    }\n",
       "\n",
       "    .dataframe tbody tr th {\n",
       "        vertical-align: top;\n",
       "    }\n",
       "\n",
       "    .dataframe thead th {\n",
       "        text-align: right;\n",
       "    }\n",
       "</style>\n",
       "<table border=\"1\" class=\"dataframe\">\n",
       "  <thead>\n",
       "    <tr style=\"text-align: right;\">\n",
       "      <th></th>\n",
       "      <th>AuftragsID</th>\n",
       "      <th>BauteilID</th>\n",
       "      <th>Bauteilbezeichnung</th>\n",
       "      <th>Auftragseingang</th>\n",
       "      <th>Priorität</th>\n",
       "      <th>Auftragsende_SOLL</th>\n",
       "      <th>Arbeitsschritt</th>\n",
       "      <th>Arbeitsschrittbezeichnung</th>\n",
       "      <th>AFO_Start_SOLL</th>\n",
       "      <th>AFO_Ende_SOLL</th>\n",
       "      <th>AFO_Start_IST</th>\n",
       "      <th>AFO_Ende_IST</th>\n",
       "      <th>MaschinenID</th>\n",
       "      <th>Maschinenbezeichnung</th>\n",
       "      <th>Maschinenkapazität</th>\n",
       "    </tr>\n",
       "  </thead>\n",
       "  <tbody>\n",
       "    <tr>\n",
       "      <th>0</th>\n",
       "      <td>95a859f51cf541e0b4aed3a38bb93065</td>\n",
       "      <td>1</td>\n",
       "      <td>Steuerventilmodul</td>\n",
       "      <td>2013-09-20</td>\n",
       "      <td>1</td>\n",
       "      <td>2014-01-01 11:32:00</td>\n",
       "      <td>1</td>\n",
       "      <td>Info</td>\n",
       "      <td>2014-01-01 07:00:00</td>\n",
       "      <td>2014-01-01 07:01:00</td>\n",
       "      <td>2014-01-01 07:00:00</td>\n",
       "      <td>2014-01-01 07:01:00</td>\n",
       "      <td>NaN</td>\n",
       "      <td>NaN</td>\n",
       "      <td>NaN</td>\n",
       "    </tr>\n",
       "    <tr>\n",
       "      <th>1</th>\n",
       "      <td>ed4e40cb93c04d0f9bcb8f7ecdc8752a</td>\n",
       "      <td>1</td>\n",
       "      <td>Steuerventilmodul</td>\n",
       "      <td>2013-11-09</td>\n",
       "      <td>1</td>\n",
       "      <td>2014-01-01 11:32:00</td>\n",
       "      <td>1</td>\n",
       "      <td>Info</td>\n",
       "      <td>2014-01-01 07:00:00</td>\n",
       "      <td>2014-01-01 07:01:00</td>\n",
       "      <td>2014-01-01 07:00:00</td>\n",
       "      <td>2014-01-01 07:01:00</td>\n",
       "      <td>NaN</td>\n",
       "      <td>NaN</td>\n",
       "      <td>NaN</td>\n",
       "    </tr>\n",
       "    <tr>\n",
       "      <th>2</th>\n",
       "      <td>ce233ad078b9429b8bd40f09100e8ee0</td>\n",
       "      <td>1</td>\n",
       "      <td>Steuerventilmodul</td>\n",
       "      <td>2013-12-30</td>\n",
       "      <td>1</td>\n",
       "      <td>2014-01-01 11:32:00</td>\n",
       "      <td>1</td>\n",
       "      <td>Info</td>\n",
       "      <td>2014-01-01 07:00:00</td>\n",
       "      <td>2014-01-01 07:01:00</td>\n",
       "      <td>2014-01-01 07:00:00</td>\n",
       "      <td>2014-01-01 07:01:00</td>\n",
       "      <td>NaN</td>\n",
       "      <td>NaN</td>\n",
       "      <td>NaN</td>\n",
       "    </tr>\n",
       "    <tr>\n",
       "      <th>3</th>\n",
       "      <td>c6b0430e1b7b4f328f0ac195c3070390</td>\n",
       "      <td>1</td>\n",
       "      <td>Steuerventilmodul</td>\n",
       "      <td>2013-10-05</td>\n",
       "      <td>1</td>\n",
       "      <td>2014-01-01 11:32:00</td>\n",
       "      <td>1</td>\n",
       "      <td>Info</td>\n",
       "      <td>2014-01-01 07:00:00</td>\n",
       "      <td>2014-01-01 07:01:00</td>\n",
       "      <td>2014-01-01 07:00:00</td>\n",
       "      <td>2014-01-01 07:01:00</td>\n",
       "      <td>NaN</td>\n",
       "      <td>NaN</td>\n",
       "      <td>NaN</td>\n",
       "    </tr>\n",
       "    <tr>\n",
       "      <th>4</th>\n",
       "      <td>5a5b4b41d6d246cfbe862018b557702b</td>\n",
       "      <td>1</td>\n",
       "      <td>Steuerventilmodul</td>\n",
       "      <td>2013-07-27</td>\n",
       "      <td>1</td>\n",
       "      <td>2014-01-01 11:32:00</td>\n",
       "      <td>1</td>\n",
       "      <td>Info</td>\n",
       "      <td>2014-01-01 07:00:00</td>\n",
       "      <td>2014-01-01 07:01:00</td>\n",
       "      <td>2014-01-01 07:00:00</td>\n",
       "      <td>2014-01-01 07:01:00</td>\n",
       "      <td>NaN</td>\n",
       "      <td>NaN</td>\n",
       "      <td>NaN</td>\n",
       "    </tr>\n",
       "  </tbody>\n",
       "</table>\n",
       "</div>"
      ],
      "text/plain": [
       "                         AuftragsID  BauteilID Bauteilbezeichnung  \\\n",
       "0  95a859f51cf541e0b4aed3a38bb93065          1  Steuerventilmodul   \n",
       "1  ed4e40cb93c04d0f9bcb8f7ecdc8752a          1  Steuerventilmodul   \n",
       "2  ce233ad078b9429b8bd40f09100e8ee0          1  Steuerventilmodul   \n",
       "3  c6b0430e1b7b4f328f0ac195c3070390          1  Steuerventilmodul   \n",
       "4  5a5b4b41d6d246cfbe862018b557702b          1  Steuerventilmodul   \n",
       "\n",
       "  Auftragseingang  Priorität    Auftragsende_SOLL  Arbeitsschritt  \\\n",
       "0      2013-09-20          1  2014-01-01 11:32:00               1   \n",
       "1      2013-11-09          1  2014-01-01 11:32:00               1   \n",
       "2      2013-12-30          1  2014-01-01 11:32:00               1   \n",
       "3      2013-10-05          1  2014-01-01 11:32:00               1   \n",
       "4      2013-07-27          1  2014-01-01 11:32:00               1   \n",
       "\n",
       "  Arbeitsschrittbezeichnung       AFO_Start_SOLL        AFO_Ende_SOLL  \\\n",
       "0                      Info  2014-01-01 07:00:00  2014-01-01 07:01:00   \n",
       "1                      Info  2014-01-01 07:00:00  2014-01-01 07:01:00   \n",
       "2                      Info  2014-01-01 07:00:00  2014-01-01 07:01:00   \n",
       "3                      Info  2014-01-01 07:00:00  2014-01-01 07:01:00   \n",
       "4                      Info  2014-01-01 07:00:00  2014-01-01 07:01:00   \n",
       "\n",
       "         AFO_Start_IST         AFO_Ende_IST MaschinenID Maschinenbezeichnung  \\\n",
       "0  2014-01-01 07:00:00  2014-01-01 07:01:00         NaN                  NaN   \n",
       "1  2014-01-01 07:00:00  2014-01-01 07:01:00         NaN                  NaN   \n",
       "2  2014-01-01 07:00:00  2014-01-01 07:01:00         NaN                  NaN   \n",
       "3  2014-01-01 07:00:00  2014-01-01 07:01:00         NaN                  NaN   \n",
       "4  2014-01-01 07:00:00  2014-01-01 07:01:00         NaN                  NaN   \n",
       "\n",
       "   Maschinenkapazität  \n",
       "0                 NaN  \n",
       "1                 NaN  \n",
       "2                 NaN  \n",
       "3                 NaN  \n",
       "4                 NaN  "
      ]
     },
     "execution_count": 59,
     "metadata": {},
     "output_type": "execute_result"
    }
   ],
   "source": [
    "data = pd.read_csv('../data/raw/2025-10-22-qualification_data.csv', sep=',')\n",
    "data.head()"
   ]
  },
  {
   "cell_type": "code",
   "execution_count": 60,
   "id": "321037b3",
   "metadata": {},
   "outputs": [
    {
     "name": "stdout",
     "output_type": "stream",
     "text": [
      "<class 'pandas.core.frame.DataFrame'>\n",
      "RangeIndex: 1591113 entries, 0 to 1591112\n",
      "Data columns (total 15 columns):\n",
      " #   Column                     Non-Null Count    Dtype  \n",
      "---  ------                     --------------    -----  \n",
      " 0   AuftragsID                 1591113 non-null  object \n",
      " 1   BauteilID                  1591113 non-null  int64  \n",
      " 2   Bauteilbezeichnung         1591113 non-null  object \n",
      " 3   Auftragseingang            1591113 non-null  object \n",
      " 4   Priorität                  1591113 non-null  int64  \n",
      " 5   Auftragsende_SOLL          1591113 non-null  object \n",
      " 6   Arbeitsschritt             1591113 non-null  int64  \n",
      " 7   Arbeitsschrittbezeichnung  1591113 non-null  object \n",
      " 8   AFO_Start_SOLL             1591113 non-null  object \n",
      " 9   AFO_Ende_SOLL              1591113 non-null  object \n",
      " 10  AFO_Start_IST              1591113 non-null  object \n",
      " 11  AFO_Ende_IST               1591113 non-null  object \n",
      " 12  MaschinenID                1275660 non-null  object \n",
      " 13  Maschinenbezeichnung       561216 non-null   object \n",
      " 14  Maschinenkapazität         560429 non-null   float64\n",
      "dtypes: float64(1), int64(3), object(11)\n",
      "memory usage: 182.1+ MB\n"
     ]
    }
   ],
   "source": [
    "data.info()"
   ]
  },
  {
   "cell_type": "code",
   "execution_count": 61,
   "id": "b796ed97",
   "metadata": {},
   "outputs": [
    {
     "data": {
      "text/plain": [
       "(159924, 3)"
      ]
     },
     "execution_count": 61,
     "metadata": {},
     "output_type": "execute_result"
    }
   ],
   "source": [
    "data[\"AuftragsID\"].nunique(), data[\"BauteilID\"].nunique()\n",
    "\n",
    "# Also im Schnitt ca. 10 Arbeitsschritte pro Auftrag. "
   ]
  },
  {
   "cell_type": "code",
   "execution_count": 62,
   "id": "db3ec76d",
   "metadata": {},
   "outputs": [
    {
     "data": {
      "text/plain": [
       "Auftragseingang          0\n",
       "Auftragsende_SOLL        0\n",
       "AFO_Start_SOLL           0\n",
       "AFO_Ende_SOLL            0\n",
       "AFO_Start_IST        57933\n",
       "AFO_Ende_IST         57933\n",
       "dtype: int64"
      ]
     },
     "execution_count": 62,
     "metadata": {},
     "output_type": "execute_result"
    }
   ],
   "source": [
    "# Zeitspalten von Text (object) in echtes Datumsformat (datetime64) umwandeln,\n",
    "# damit Zeitdifferenzen, Vergleiche und Gruppierungen möglich sind.\n",
    "# errors=\"coerce\" wandelt fehlerhafte Werte in NaT (Not a Time) statt Fehler auszulösen.\n",
    "time_cols = [\"Auftragseingang\", \"Auftragsende_SOLL\",\n",
    "              \"AFO_Start_SOLL\", \"AFO_Ende_SOLL\",\n",
    "              \"AFO_Start_IST\", \"AFO_Ende_IST\"]\n",
    "\n",
    "for col in time_cols:\n",
    "    data[col] = pd.to_datetime(data[col], errors=\"coerce\")\n",
    "\n",
    "data[time_cols].isna().sum()"
   ]
  },
  {
   "cell_type": "code",
   "execution_count": 63,
   "id": "3c3c4bbf",
   "metadata": {},
   "outputs": [
    {
     "name": "stdout",
     "output_type": "stream",
     "text": [
      "<class 'pandas.core.frame.DataFrame'>\n",
      "RangeIndex: 1591113 entries, 0 to 1591112\n",
      "Data columns (total 15 columns):\n",
      " #   Column                     Non-Null Count    Dtype         \n",
      "---  ------                     --------------    -----         \n",
      " 0   AuftragsID                 1591113 non-null  object        \n",
      " 1   BauteilID                  1591113 non-null  int64         \n",
      " 2   Bauteilbezeichnung         1591113 non-null  object        \n",
      " 3   Auftragseingang            1591113 non-null  datetime64[ns]\n",
      " 4   Priorität                  1591113 non-null  int64         \n",
      " 5   Auftragsende_SOLL          1591113 non-null  datetime64[ns]\n",
      " 6   Arbeitsschritt             1591113 non-null  int64         \n",
      " 7   Arbeitsschrittbezeichnung  1591113 non-null  object        \n",
      " 8   AFO_Start_SOLL             1591113 non-null  datetime64[ns]\n",
      " 9   AFO_Ende_SOLL              1591113 non-null  datetime64[ns]\n",
      " 10  AFO_Start_IST              1533180 non-null  datetime64[ns]\n",
      " 11  AFO_Ende_IST               1533180 non-null  datetime64[ns]\n",
      " 12  MaschinenID                1275660 non-null  object        \n",
      " 13  Maschinenbezeichnung       561216 non-null   object        \n",
      " 14  Maschinenkapazität         560429 non-null   float64       \n",
      "dtypes: datetime64[ns](6), float64(1), int64(3), object(5)\n",
      "memory usage: 182.1+ MB\n"
     ]
    }
   ],
   "source": [
    "data.info()"
   ]
  },
  {
   "cell_type": "code",
   "execution_count": 64,
   "id": "1e663d69",
   "metadata": {},
   "outputs": [
    {
     "data": {
      "text/plain": [
       "array(['2100-01-01', '2000-01-01'], dtype=object)"
      ]
     },
     "execution_count": 64,
     "metadata": {},
     "output_type": "execute_result"
    }
   ],
   "source": [
    "raw = pd.read_csv('../data/raw/2025-10-22-qualification_data.csv', sep=',')\n",
    "\n",
    "# Zeilen finden, die nach der Umwandlung NaT wurden\n",
    "mask_invalid = data[\"AFO_Start_IST\"].isna()\n",
    "\n",
    "# Vergleich der Originalwerte in diesen Zeilen\n",
    "raw.loc[mask_invalid, \"AFO_Start_IST\"].unique()[:20]\n",
    "\n"
   ]
  },
  {
   "cell_type": "code",
   "execution_count": 65,
   "id": "d4f7295e",
   "metadata": {},
   "outputs": [
    {
     "data": {
      "text/html": [
       "<div>\n",
       "<style scoped>\n",
       "    .dataframe tbody tr th:only-of-type {\n",
       "        vertical-align: middle;\n",
       "    }\n",
       "\n",
       "    .dataframe tbody tr th {\n",
       "        vertical-align: top;\n",
       "    }\n",
       "\n",
       "    .dataframe thead th {\n",
       "        text-align: right;\n",
       "    }\n",
       "</style>\n",
       "<table border=\"1\" class=\"dataframe\">\n",
       "  <thead>\n",
       "    <tr style=\"text-align: right;\">\n",
       "      <th></th>\n",
       "      <th>AuftragsID</th>\n",
       "      <th>BauteilID</th>\n",
       "      <th>Bauteilbezeichnung</th>\n",
       "      <th>Auftragseingang</th>\n",
       "      <th>Priorität</th>\n",
       "      <th>Auftragsende_SOLL</th>\n",
       "      <th>Arbeitsschritt</th>\n",
       "      <th>Arbeitsschrittbezeichnung</th>\n",
       "      <th>AFO_Start_SOLL</th>\n",
       "      <th>AFO_Ende_SOLL</th>\n",
       "      <th>AFO_Start_IST</th>\n",
       "      <th>AFO_Ende_IST</th>\n",
       "      <th>MaschinenID</th>\n",
       "      <th>Maschinenbezeichnung</th>\n",
       "      <th>Maschinenkapazität</th>\n",
       "    </tr>\n",
       "  </thead>\n",
       "  <tbody>\n",
       "    <tr>\n",
       "      <th>1533180</th>\n",
       "      <td>c63f69dbd5de47d8bf5c40ed6a7ff83a</td>\n",
       "      <td>1</td>\n",
       "      <td>Steuerventilmodul</td>\n",
       "      <td>2023-06-14</td>\n",
       "      <td>1</td>\n",
       "      <td>2023-09-22 07:22:00</td>\n",
       "      <td>999</td>\n",
       "      <td>End</td>\n",
       "      <td>2023-09-22 07:21:00</td>\n",
       "      <td>2023-09-22 07:22:00</td>\n",
       "      <td>2100-01-01</td>\n",
       "      <td>2100-01-01</td>\n",
       "      <td>NaN</td>\n",
       "      <td>NaN</td>\n",
       "      <td>NaN</td>\n",
       "    </tr>\n",
       "    <tr>\n",
       "      <th>1533181</th>\n",
       "      <td>21ab4278f48e49cc8cb527363f8198ed</td>\n",
       "      <td>1</td>\n",
       "      <td>Steuerventilmodul</td>\n",
       "      <td>2024-05-28</td>\n",
       "      <td>1</td>\n",
       "      <td>2024-08-14 11:32:00</td>\n",
       "      <td>11</td>\n",
       "      <td>Heften-Schweißen</td>\n",
       "      <td>2024-08-14 07:31:00</td>\n",
       "      <td>2024-08-14 08:21:00</td>\n",
       "      <td>2100-01-01</td>\n",
       "      <td>2100-01-01</td>\n",
       "      <td>1</td>\n",
       "      <td>EWM</td>\n",
       "      <td>18.0</td>\n",
       "    </tr>\n",
       "    <tr>\n",
       "      <th>1533182</th>\n",
       "      <td>988f8f6b93b74772ba4adbccd499bf39</td>\n",
       "      <td>1</td>\n",
       "      <td>Steuerventilmodul</td>\n",
       "      <td>2024-05-25</td>\n",
       "      <td>2</td>\n",
       "      <td>2024-08-14 12:22:00</td>\n",
       "      <td>11</td>\n",
       "      <td>Heften-Schweißen</td>\n",
       "      <td>2024-08-14 07:31:00</td>\n",
       "      <td>2024-08-14 08:21:00</td>\n",
       "      <td>2100-01-01</td>\n",
       "      <td>2100-01-01</td>\n",
       "      <td>1</td>\n",
       "      <td>EWM</td>\n",
       "      <td>18.0</td>\n",
       "    </tr>\n",
       "    <tr>\n",
       "      <th>1533183</th>\n",
       "      <td>2afe839a5d9c45f0ad07ed4e95764dae</td>\n",
       "      <td>1</td>\n",
       "      <td>Steuerventilmodul</td>\n",
       "      <td>2024-05-20</td>\n",
       "      <td>2</td>\n",
       "      <td>2024-08-14 12:22:00</td>\n",
       "      <td>11</td>\n",
       "      <td>Heften-Schweißen</td>\n",
       "      <td>2024-08-14 07:31:00</td>\n",
       "      <td>2024-08-14 08:21:00</td>\n",
       "      <td>2100-01-01</td>\n",
       "      <td>2100-01-01</td>\n",
       "      <td>1</td>\n",
       "      <td>EWM</td>\n",
       "      <td>18.0</td>\n",
       "    </tr>\n",
       "    <tr>\n",
       "      <th>1533184</th>\n",
       "      <td>4f1795bc7ee3499ba59860ad40dbd353</td>\n",
       "      <td>2</td>\n",
       "      <td>Schwenkzylinder</td>\n",
       "      <td>2024-07-07</td>\n",
       "      <td>1</td>\n",
       "      <td>2024-08-14 07:12:00</td>\n",
       "      <td>32</td>\n",
       "      <td>Mechanisch Bearbeiten</td>\n",
       "      <td>2024-08-13 11:01:00</td>\n",
       "      <td>2024-08-13 11:51:00</td>\n",
       "      <td>2100-01-01</td>\n",
       "      <td>2100-01-01</td>\n",
       "      <td>2</td>\n",
       "      <td>Fronius</td>\n",
       "      <td>8.0</td>\n",
       "    </tr>\n",
       "    <tr>\n",
       "      <th>1533185</th>\n",
       "      <td>205f28a4aa1a4900ad4936b727d47803</td>\n",
       "      <td>2</td>\n",
       "      <td>Schwenkzylinder</td>\n",
       "      <td>2024-04-09</td>\n",
       "      <td>1</td>\n",
       "      <td>2024-08-14 13:12:00</td>\n",
       "      <td>100</td>\n",
       "      <td>Transport</td>\n",
       "      <td>2024-08-14 08:21:00</td>\n",
       "      <td>2024-08-14 08:51:00</td>\n",
       "      <td>2100-01-01</td>\n",
       "      <td>2100-01-01</td>\n",
       "      <td>Transport/Rüsten</td>\n",
       "      <td>NaN</td>\n",
       "      <td>NaN</td>\n",
       "    </tr>\n",
       "    <tr>\n",
       "      <th>1533186</th>\n",
       "      <td>28007086afa645a4ab52e9bd13458243</td>\n",
       "      <td>3</td>\n",
       "      <td>Daempfungseinheit</td>\n",
       "      <td>2024-04-09</td>\n",
       "      <td>3</td>\n",
       "      <td>2024-08-14 10:12:00</td>\n",
       "      <td>100</td>\n",
       "      <td>Transport</td>\n",
       "      <td>2024-08-14 08:21:00</td>\n",
       "      <td>2024-08-14 08:51:00</td>\n",
       "      <td>2100-01-01</td>\n",
       "      <td>2100-01-01</td>\n",
       "      <td>Transport/Rüsten</td>\n",
       "      <td>NaN</td>\n",
       "      <td>NaN</td>\n",
       "    </tr>\n",
       "    <tr>\n",
       "      <th>1533187</th>\n",
       "      <td>8e1cf4823c2b4402ae2384475e70de0b</td>\n",
       "      <td>3</td>\n",
       "      <td>Daempfungseinheit</td>\n",
       "      <td>2024-07-28</td>\n",
       "      <td>1</td>\n",
       "      <td>2024-08-13 12:42:00</td>\n",
       "      <td>23</td>\n",
       "      <td>Lackieren</td>\n",
       "      <td>2024-08-13 11:21:00</td>\n",
       "      <td>2024-08-13 12:11:00</td>\n",
       "      <td>2100-01-01</td>\n",
       "      <td>2100-01-01</td>\n",
       "      <td>2</td>\n",
       "      <td>Fronius</td>\n",
       "      <td>7.0</td>\n",
       "    </tr>\n",
       "    <tr>\n",
       "      <th>1533188</th>\n",
       "      <td>c04c634a6525453191f789def491e9f3</td>\n",
       "      <td>2</td>\n",
       "      <td>Schwenkzylinder</td>\n",
       "      <td>2024-07-21</td>\n",
       "      <td>1</td>\n",
       "      <td>2024-08-13 13:32:00</td>\n",
       "      <td>32</td>\n",
       "      <td>Mechanisch Bearbeiten</td>\n",
       "      <td>2024-08-13 10:11:00</td>\n",
       "      <td>2024-08-13 11:01:00</td>\n",
       "      <td>2100-01-01</td>\n",
       "      <td>2100-01-01</td>\n",
       "      <td>2</td>\n",
       "      <td>Fronius</td>\n",
       "      <td>9.0</td>\n",
       "    </tr>\n",
       "    <tr>\n",
       "      <th>1533189</th>\n",
       "      <td>bd999707b6ff4ce1a6a4a916902c17ba</td>\n",
       "      <td>1</td>\n",
       "      <td>Steuerventilmodul</td>\n",
       "      <td>2024-05-22</td>\n",
       "      <td>2</td>\n",
       "      <td>2024-08-14 14:02:00</td>\n",
       "      <td>11</td>\n",
       "      <td>Heften-Schweißen</td>\n",
       "      <td>2024-08-14 07:31:00</td>\n",
       "      <td>2024-08-14 09:11:00</td>\n",
       "      <td>2100-01-01</td>\n",
       "      <td>2100-01-01</td>\n",
       "      <td>1</td>\n",
       "      <td>EWM</td>\n",
       "      <td>18.0</td>\n",
       "    </tr>\n",
       "    <tr>\n",
       "      <th>1533190</th>\n",
       "      <td>32f9385005c1486b9bd29f6992f4d99d</td>\n",
       "      <td>2</td>\n",
       "      <td>Schwenkzylinder</td>\n",
       "      <td>2024-05-15</td>\n",
       "      <td>1</td>\n",
       "      <td>2024-08-13 14:22:00</td>\n",
       "      <td>100</td>\n",
       "      <td>Transport</td>\n",
       "      <td>2024-08-13 11:01:00</td>\n",
       "      <td>2024-08-13 11:31:00</td>\n",
       "      <td>2100-01-01</td>\n",
       "      <td>2100-01-01</td>\n",
       "      <td>Transport/Rüsten</td>\n",
       "      <td>NaN</td>\n",
       "      <td>NaN</td>\n",
       "    </tr>\n",
       "    <tr>\n",
       "      <th>1533191</th>\n",
       "      <td>6ed75db0820d4269920853d098931fba</td>\n",
       "      <td>2</td>\n",
       "      <td>Schwenkzylinder</td>\n",
       "      <td>2024-07-19</td>\n",
       "      <td>1</td>\n",
       "      <td>2024-08-14 07:12:00</td>\n",
       "      <td>32</td>\n",
       "      <td>Mechanisch Bearbeiten</td>\n",
       "      <td>2024-08-13 11:01:00</td>\n",
       "      <td>2024-08-13 11:51:00</td>\n",
       "      <td>2100-01-01</td>\n",
       "      <td>2100-01-01</td>\n",
       "      <td>2</td>\n",
       "      <td>Fronius</td>\n",
       "      <td>7.0</td>\n",
       "    </tr>\n",
       "    <tr>\n",
       "      <th>1533192</th>\n",
       "      <td>f19de771289c4f06a6daefe28403c39b</td>\n",
       "      <td>1</td>\n",
       "      <td>Steuerventilmodul</td>\n",
       "      <td>2024-05-26</td>\n",
       "      <td>2</td>\n",
       "      <td>2024-08-14 11:32:00</td>\n",
       "      <td>100</td>\n",
       "      <td>Transport</td>\n",
       "      <td>2024-08-14 08:21:00</td>\n",
       "      <td>2024-08-14 08:51:00</td>\n",
       "      <td>2100-01-01</td>\n",
       "      <td>2100-01-01</td>\n",
       "      <td>Transport/Rüsten</td>\n",
       "      <td>NaN</td>\n",
       "      <td>NaN</td>\n",
       "    </tr>\n",
       "    <tr>\n",
       "      <th>1533193</th>\n",
       "      <td>9e86bb89cca74a6d9817ee0555c2c74f</td>\n",
       "      <td>1</td>\n",
       "      <td>Steuerventilmodul</td>\n",
       "      <td>2024-04-28</td>\n",
       "      <td>1</td>\n",
       "      <td>2024-08-14 12:22:00</td>\n",
       "      <td>100</td>\n",
       "      <td>Transport</td>\n",
       "      <td>2024-08-14 08:21:00</td>\n",
       "      <td>2024-08-14 08:51:00</td>\n",
       "      <td>2100-01-01</td>\n",
       "      <td>2100-01-01</td>\n",
       "      <td>Transport/Rüsten</td>\n",
       "      <td>NaN</td>\n",
       "      <td>NaN</td>\n",
       "    </tr>\n",
       "    <tr>\n",
       "      <th>1533194</th>\n",
       "      <td>c43c514bba2c457097f216cda73e7259</td>\n",
       "      <td>1</td>\n",
       "      <td>Steuerventilmodul</td>\n",
       "      <td>2024-03-07</td>\n",
       "      <td>2</td>\n",
       "      <td>2024-08-14 13:12:00</td>\n",
       "      <td>100</td>\n",
       "      <td>Transport</td>\n",
       "      <td>2024-08-14 08:21:00</td>\n",
       "      <td>2024-08-14 08:51:00</td>\n",
       "      <td>2100-01-01</td>\n",
       "      <td>2100-01-01</td>\n",
       "      <td>Transport/Rüsten</td>\n",
       "      <td>NaN</td>\n",
       "      <td>NaN</td>\n",
       "    </tr>\n",
       "    <tr>\n",
       "      <th>1533195</th>\n",
       "      <td>6154f25a6eb640d7a7ece2a8130b358e</td>\n",
       "      <td>1</td>\n",
       "      <td>Steuerventilmodul</td>\n",
       "      <td>2024-04-30</td>\n",
       "      <td>1</td>\n",
       "      <td>2024-08-14 12:22:00</td>\n",
       "      <td>100</td>\n",
       "      <td>Transport</td>\n",
       "      <td>2024-08-14 08:21:00</td>\n",
       "      <td>2024-08-14 08:51:00</td>\n",
       "      <td>2100-01-01</td>\n",
       "      <td>2100-01-01</td>\n",
       "      <td>Transport/Rüsten</td>\n",
       "      <td>NaN</td>\n",
       "      <td>NaN</td>\n",
       "    </tr>\n",
       "    <tr>\n",
       "      <th>1533196</th>\n",
       "      <td>7ec4b578f3a144288518d4a69c3a4e44</td>\n",
       "      <td>2</td>\n",
       "      <td>Schwenkzylinder</td>\n",
       "      <td>2024-03-30</td>\n",
       "      <td>1</td>\n",
       "      <td>2024-08-14 07:12:00</td>\n",
       "      <td>32</td>\n",
       "      <td>Mechanisch Bearbeiten</td>\n",
       "      <td>2024-08-13 11:01:00</td>\n",
       "      <td>2024-08-13 11:51:00</td>\n",
       "      <td>2100-01-01</td>\n",
       "      <td>2100-01-01</td>\n",
       "      <td>2</td>\n",
       "      <td>Fronius</td>\n",
       "      <td>10.0</td>\n",
       "    </tr>\n",
       "    <tr>\n",
       "      <th>1533197</th>\n",
       "      <td>5bc3cfa1381d401c9879f9ea30cb28ef</td>\n",
       "      <td>2</td>\n",
       "      <td>Schwenkzylinder</td>\n",
       "      <td>2024-04-14</td>\n",
       "      <td>2</td>\n",
       "      <td>2024-08-14 13:12:00</td>\n",
       "      <td>100</td>\n",
       "      <td>Transport</td>\n",
       "      <td>2024-08-14 08:21:00</td>\n",
       "      <td>2024-08-14 08:51:00</td>\n",
       "      <td>2100-01-01</td>\n",
       "      <td>2100-01-01</td>\n",
       "      <td>Transport/Rüsten</td>\n",
       "      <td>NaN</td>\n",
       "      <td>NaN</td>\n",
       "    </tr>\n",
       "    <tr>\n",
       "      <th>1533198</th>\n",
       "      <td>48c717d768ff4cd1b6528c31a908a76a</td>\n",
       "      <td>1</td>\n",
       "      <td>Steuerventilmodul</td>\n",
       "      <td>2023-07-26</td>\n",
       "      <td>1</td>\n",
       "      <td>2023-08-15 07:42:00</td>\n",
       "      <td>31</td>\n",
       "      <td>Nachschweißen</td>\n",
       "      <td>2023-08-11 11:01:00</td>\n",
       "      <td>2023-08-15 07:11:00</td>\n",
       "      <td>2100-01-01</td>\n",
       "      <td>2100-01-01</td>\n",
       "      <td>3</td>\n",
       "      <td>Deckel Maho</td>\n",
       "      <td>8.0</td>\n",
       "    </tr>\n",
       "    <tr>\n",
       "      <th>1533199</th>\n",
       "      <td>cb5ad67773dc480f9498cbf0e19ca463</td>\n",
       "      <td>3</td>\n",
       "      <td>Daempfungseinheit</td>\n",
       "      <td>2024-04-14</td>\n",
       "      <td>1</td>\n",
       "      <td>2024-08-14 10:12:00</td>\n",
       "      <td>100</td>\n",
       "      <td>Transport</td>\n",
       "      <td>2024-08-14 08:21:00</td>\n",
       "      <td>2024-08-14 08:51:00</td>\n",
       "      <td>2100-01-01</td>\n",
       "      <td>2100-01-01</td>\n",
       "      <td>Transport/Rüsten</td>\n",
       "      <td>NaN</td>\n",
       "      <td>NaN</td>\n",
       "    </tr>\n",
       "  </tbody>\n",
       "</table>\n",
       "</div>"
      ],
      "text/plain": [
       "                               AuftragsID  BauteilID Bauteilbezeichnung  \\\n",
       "1533180  c63f69dbd5de47d8bf5c40ed6a7ff83a          1  Steuerventilmodul   \n",
       "1533181  21ab4278f48e49cc8cb527363f8198ed          1  Steuerventilmodul   \n",
       "1533182  988f8f6b93b74772ba4adbccd499bf39          1  Steuerventilmodul   \n",
       "1533183  2afe839a5d9c45f0ad07ed4e95764dae          1  Steuerventilmodul   \n",
       "1533184  4f1795bc7ee3499ba59860ad40dbd353          2    Schwenkzylinder   \n",
       "1533185  205f28a4aa1a4900ad4936b727d47803          2    Schwenkzylinder   \n",
       "1533186  28007086afa645a4ab52e9bd13458243          3  Daempfungseinheit   \n",
       "1533187  8e1cf4823c2b4402ae2384475e70de0b          3  Daempfungseinheit   \n",
       "1533188  c04c634a6525453191f789def491e9f3          2    Schwenkzylinder   \n",
       "1533189  bd999707b6ff4ce1a6a4a916902c17ba          1  Steuerventilmodul   \n",
       "1533190  32f9385005c1486b9bd29f6992f4d99d          2    Schwenkzylinder   \n",
       "1533191  6ed75db0820d4269920853d098931fba          2    Schwenkzylinder   \n",
       "1533192  f19de771289c4f06a6daefe28403c39b          1  Steuerventilmodul   \n",
       "1533193  9e86bb89cca74a6d9817ee0555c2c74f          1  Steuerventilmodul   \n",
       "1533194  c43c514bba2c457097f216cda73e7259          1  Steuerventilmodul   \n",
       "1533195  6154f25a6eb640d7a7ece2a8130b358e          1  Steuerventilmodul   \n",
       "1533196  7ec4b578f3a144288518d4a69c3a4e44          2    Schwenkzylinder   \n",
       "1533197  5bc3cfa1381d401c9879f9ea30cb28ef          2    Schwenkzylinder   \n",
       "1533198  48c717d768ff4cd1b6528c31a908a76a          1  Steuerventilmodul   \n",
       "1533199  cb5ad67773dc480f9498cbf0e19ca463          3  Daempfungseinheit   \n",
       "\n",
       "        Auftragseingang  Priorität    Auftragsende_SOLL  Arbeitsschritt  \\\n",
       "1533180      2023-06-14          1  2023-09-22 07:22:00             999   \n",
       "1533181      2024-05-28          1  2024-08-14 11:32:00              11   \n",
       "1533182      2024-05-25          2  2024-08-14 12:22:00              11   \n",
       "1533183      2024-05-20          2  2024-08-14 12:22:00              11   \n",
       "1533184      2024-07-07          1  2024-08-14 07:12:00              32   \n",
       "1533185      2024-04-09          1  2024-08-14 13:12:00             100   \n",
       "1533186      2024-04-09          3  2024-08-14 10:12:00             100   \n",
       "1533187      2024-07-28          1  2024-08-13 12:42:00              23   \n",
       "1533188      2024-07-21          1  2024-08-13 13:32:00              32   \n",
       "1533189      2024-05-22          2  2024-08-14 14:02:00              11   \n",
       "1533190      2024-05-15          1  2024-08-13 14:22:00             100   \n",
       "1533191      2024-07-19          1  2024-08-14 07:12:00              32   \n",
       "1533192      2024-05-26          2  2024-08-14 11:32:00             100   \n",
       "1533193      2024-04-28          1  2024-08-14 12:22:00             100   \n",
       "1533194      2024-03-07          2  2024-08-14 13:12:00             100   \n",
       "1533195      2024-04-30          1  2024-08-14 12:22:00             100   \n",
       "1533196      2024-03-30          1  2024-08-14 07:12:00              32   \n",
       "1533197      2024-04-14          2  2024-08-14 13:12:00             100   \n",
       "1533198      2023-07-26          1  2023-08-15 07:42:00              31   \n",
       "1533199      2024-04-14          1  2024-08-14 10:12:00             100   \n",
       "\n",
       "        Arbeitsschrittbezeichnung       AFO_Start_SOLL        AFO_Ende_SOLL  \\\n",
       "1533180                       End  2023-09-22 07:21:00  2023-09-22 07:22:00   \n",
       "1533181          Heften-Schweißen  2024-08-14 07:31:00  2024-08-14 08:21:00   \n",
       "1533182          Heften-Schweißen  2024-08-14 07:31:00  2024-08-14 08:21:00   \n",
       "1533183          Heften-Schweißen  2024-08-14 07:31:00  2024-08-14 08:21:00   \n",
       "1533184     Mechanisch Bearbeiten  2024-08-13 11:01:00  2024-08-13 11:51:00   \n",
       "1533185                 Transport  2024-08-14 08:21:00  2024-08-14 08:51:00   \n",
       "1533186                 Transport  2024-08-14 08:21:00  2024-08-14 08:51:00   \n",
       "1533187                 Lackieren  2024-08-13 11:21:00  2024-08-13 12:11:00   \n",
       "1533188     Mechanisch Bearbeiten  2024-08-13 10:11:00  2024-08-13 11:01:00   \n",
       "1533189          Heften-Schweißen  2024-08-14 07:31:00  2024-08-14 09:11:00   \n",
       "1533190                 Transport  2024-08-13 11:01:00  2024-08-13 11:31:00   \n",
       "1533191     Mechanisch Bearbeiten  2024-08-13 11:01:00  2024-08-13 11:51:00   \n",
       "1533192                 Transport  2024-08-14 08:21:00  2024-08-14 08:51:00   \n",
       "1533193                 Transport  2024-08-14 08:21:00  2024-08-14 08:51:00   \n",
       "1533194                 Transport  2024-08-14 08:21:00  2024-08-14 08:51:00   \n",
       "1533195                 Transport  2024-08-14 08:21:00  2024-08-14 08:51:00   \n",
       "1533196     Mechanisch Bearbeiten  2024-08-13 11:01:00  2024-08-13 11:51:00   \n",
       "1533197                 Transport  2024-08-14 08:21:00  2024-08-14 08:51:00   \n",
       "1533198             Nachschweißen  2023-08-11 11:01:00  2023-08-15 07:11:00   \n",
       "1533199                 Transport  2024-08-14 08:21:00  2024-08-14 08:51:00   \n",
       "\n",
       "        AFO_Start_IST AFO_Ende_IST       MaschinenID Maschinenbezeichnung  \\\n",
       "1533180    2100-01-01   2100-01-01               NaN                  NaN   \n",
       "1533181    2100-01-01   2100-01-01                 1                  EWM   \n",
       "1533182    2100-01-01   2100-01-01                 1                  EWM   \n",
       "1533183    2100-01-01   2100-01-01                 1                  EWM   \n",
       "1533184    2100-01-01   2100-01-01                 2              Fronius   \n",
       "1533185    2100-01-01   2100-01-01  Transport/Rüsten                  NaN   \n",
       "1533186    2100-01-01   2100-01-01  Transport/Rüsten                  NaN   \n",
       "1533187    2100-01-01   2100-01-01                 2              Fronius   \n",
       "1533188    2100-01-01   2100-01-01                 2              Fronius   \n",
       "1533189    2100-01-01   2100-01-01                 1                  EWM   \n",
       "1533190    2100-01-01   2100-01-01  Transport/Rüsten                  NaN   \n",
       "1533191    2100-01-01   2100-01-01                 2              Fronius   \n",
       "1533192    2100-01-01   2100-01-01  Transport/Rüsten                  NaN   \n",
       "1533193    2100-01-01   2100-01-01  Transport/Rüsten                  NaN   \n",
       "1533194    2100-01-01   2100-01-01  Transport/Rüsten                  NaN   \n",
       "1533195    2100-01-01   2100-01-01  Transport/Rüsten                  NaN   \n",
       "1533196    2100-01-01   2100-01-01                 2              Fronius   \n",
       "1533197    2100-01-01   2100-01-01  Transport/Rüsten                  NaN   \n",
       "1533198    2100-01-01   2100-01-01                 3          Deckel Maho   \n",
       "1533199    2100-01-01   2100-01-01  Transport/Rüsten                  NaN   \n",
       "\n",
       "         Maschinenkapazität  \n",
       "1533180                 NaN  \n",
       "1533181                18.0  \n",
       "1533182                18.0  \n",
       "1533183                18.0  \n",
       "1533184                 8.0  \n",
       "1533185                 NaN  \n",
       "1533186                 NaN  \n",
       "1533187                 7.0  \n",
       "1533188                 9.0  \n",
       "1533189                18.0  \n",
       "1533190                 NaN  \n",
       "1533191                 7.0  \n",
       "1533192                 NaN  \n",
       "1533193                 NaN  \n",
       "1533194                 NaN  \n",
       "1533195                 NaN  \n",
       "1533196                10.0  \n",
       "1533197                 NaN  \n",
       "1533198                 8.0  \n",
       "1533199                 NaN  "
      ]
     },
     "execution_count": 65,
     "metadata": {},
     "output_type": "execute_result"
    }
   ],
   "source": [
    "raw.loc[mask_invalid].head(20)"
   ]
  },
  {
   "cell_type": "code",
   "execution_count": 66,
   "id": "425d40b5",
   "metadata": {},
   "outputs": [
    {
     "data": {
      "text/plain": [
       "AFO_Start_IST\n",
       "2100-01-01    57932\n",
       "2000-01-01        1\n",
       "Name: count, dtype: int64"
      ]
     },
     "execution_count": 66,
     "metadata": {},
     "output_type": "execute_result"
    }
   ],
   "source": [
    "raw.loc[mask_invalid, \"AFO_Start_IST\"].value_counts().head(10)"
   ]
  },
  {
   "cell_type": "code",
   "execution_count": 67,
   "id": "f9db11ea",
   "metadata": {},
   "outputs": [
    {
     "data": {
      "text/html": [
       "<div>\n",
       "<style scoped>\n",
       "    .dataframe tbody tr th:only-of-type {\n",
       "        vertical-align: middle;\n",
       "    }\n",
       "\n",
       "    .dataframe tbody tr th {\n",
       "        vertical-align: top;\n",
       "    }\n",
       "\n",
       "    .dataframe thead th {\n",
       "        text-align: right;\n",
       "    }\n",
       "</style>\n",
       "<table border=\"1\" class=\"dataframe\">\n",
       "  <thead>\n",
       "    <tr style=\"text-align: right;\">\n",
       "      <th></th>\n",
       "      <th>AuftragsID</th>\n",
       "      <th>BauteilID</th>\n",
       "      <th>Bauteilbezeichnung</th>\n",
       "      <th>Auftragseingang</th>\n",
       "      <th>Priorität</th>\n",
       "      <th>Auftragsende_SOLL</th>\n",
       "      <th>Arbeitsschritt</th>\n",
       "      <th>Arbeitsschrittbezeichnung</th>\n",
       "      <th>AFO_Start_SOLL</th>\n",
       "      <th>AFO_Ende_SOLL</th>\n",
       "      <th>AFO_Start_IST</th>\n",
       "      <th>AFO_Ende_IST</th>\n",
       "      <th>MaschinenID</th>\n",
       "      <th>Maschinenbezeichnung</th>\n",
       "      <th>Maschinenkapazität</th>\n",
       "    </tr>\n",
       "  </thead>\n",
       "  <tbody>\n",
       "    <tr>\n",
       "      <th>1556004</th>\n",
       "      <td>56dccdcefabe4c9f94f71f8859e6c35b</td>\n",
       "      <td>2</td>\n",
       "      <td>Schwenkzylinder</td>\n",
       "      <td>2024-08-02</td>\n",
       "      <td>3</td>\n",
       "      <td>2024-10-25 14:52:00</td>\n",
       "      <td>1</td>\n",
       "      <td>Info</td>\n",
       "      <td>2024-10-24 07:00:00</td>\n",
       "      <td>2024-10-24 07:01:00</td>\n",
       "      <td>2000-01-01</td>\n",
       "      <td>2100-01-01</td>\n",
       "      <td>NaN</td>\n",
       "      <td>NaN</td>\n",
       "      <td>NaN</td>\n",
       "    </tr>\n",
       "  </tbody>\n",
       "</table>\n",
       "</div>"
      ],
      "text/plain": [
       "                               AuftragsID  BauteilID Bauteilbezeichnung  \\\n",
       "1556004  56dccdcefabe4c9f94f71f8859e6c35b          2    Schwenkzylinder   \n",
       "\n",
       "        Auftragseingang  Priorität    Auftragsende_SOLL  Arbeitsschritt  \\\n",
       "1556004      2024-08-02          3  2024-10-25 14:52:00               1   \n",
       "\n",
       "        Arbeitsschrittbezeichnung       AFO_Start_SOLL        AFO_Ende_SOLL  \\\n",
       "1556004                      Info  2024-10-24 07:00:00  2024-10-24 07:01:00   \n",
       "\n",
       "        AFO_Start_IST AFO_Ende_IST MaschinenID Maschinenbezeichnung  \\\n",
       "1556004    2000-01-01   2100-01-01         NaN                  NaN   \n",
       "\n",
       "         Maschinenkapazität  \n",
       "1556004                 NaN  "
      ]
     },
     "execution_count": 67,
     "metadata": {},
     "output_type": "execute_result"
    }
   ],
   "source": [
    "raw.loc[mask_invalid & (raw[\"AFO_Start_IST\"].astype(str).str.strip() == \"2000-01-01\")]\n"
   ]
  },
  {
   "cell_type": "code",
   "execution_count": 68,
   "id": "6530f5aa",
   "metadata": {},
   "outputs": [
    {
     "data": {
      "text/plain": [
       "array(['2100-01-01'], dtype=object)"
      ]
     },
     "execution_count": 68,
     "metadata": {},
     "output_type": "execute_result"
    }
   ],
   "source": [
    "raw = pd.read_csv('../data/raw/2025-10-22-qualification_data.csv', sep=',')\n",
    "\n",
    "# Zeilen finden, die nach der Umwandlung NaT wurden\n",
    "mask_invalid = data[\"AFO_Ende_IST\"].isna()\n",
    "\n",
    "# Vergleich der Originalwerte in diesen Zeilen\n",
    "raw.loc[mask_invalid, \"AFO_Ende_IST\"].unique()[:20]\n"
   ]
  },
  {
   "cell_type": "code",
   "execution_count": 69,
   "id": "f7d68e26",
   "metadata": {},
   "outputs": [
    {
     "data": {
      "text/plain": [
       "AFO_Ende_IST\n",
       "2100-01-01    57933\n",
       "Name: count, dtype: int64"
      ]
     },
     "execution_count": 69,
     "metadata": {},
     "output_type": "execute_result"
    }
   ],
   "source": [
    "raw.loc[mask_invalid, \"AFO_Ende_IST\"].value_counts().head(10)"
   ]
  },
  {
   "cell_type": "code",
   "execution_count": 70,
   "id": "42d7b142",
   "metadata": {},
   "outputs": [
    {
     "name": "stdout",
     "output_type": "stream",
     "text": [
      "Entfernte Zeilen: 57933\n",
      "Verbleibende Zeilen: 1533180\n"
     ]
    }
   ],
   "source": [
    "# Zeilen mit fehlenden (NaT) IST-Zeitstempeln entfernen\n",
    "data_clean = data.dropna(subset=[\"AFO_Start_IST\", \"AFO_Ende_IST\"]).copy()\n",
    "\n",
    "# Kontrolle: Wie viele Zeilen wurden entfernt?\n",
    "removed_rows = len(data) - len(data_clean)\n",
    "print(f\"Entfernte Zeilen: {removed_rows}\")\n",
    "print(f\"Verbleibende Zeilen: {len(data_clean)}\")"
   ]
  },
  {
   "cell_type": "code",
   "execution_count": 71,
   "id": "ec3cd9c2",
   "metadata": {},
   "outputs": [
    {
     "name": "stdout",
     "output_type": "stream",
     "text": [
      "<class 'pandas.core.frame.DataFrame'>\n",
      "Index: 1533180 entries, 0 to 1533179\n",
      "Data columns (total 15 columns):\n",
      " #   Column                     Non-Null Count    Dtype         \n",
      "---  ------                     --------------    -----         \n",
      " 0   AuftragsID                 1533180 non-null  object        \n",
      " 1   BauteilID                  1533180 non-null  int64         \n",
      " 2   Bauteilbezeichnung         1533180 non-null  object        \n",
      " 3   Auftragseingang            1533180 non-null  datetime64[ns]\n",
      " 4   Priorität                  1533180 non-null  int64         \n",
      " 5   Auftragsende_SOLL          1533180 non-null  datetime64[ns]\n",
      " 6   Arbeitsschritt             1533180 non-null  int64         \n",
      " 7   Arbeitsschrittbezeichnung  1533180 non-null  object        \n",
      " 8   AFO_Start_SOLL             1533180 non-null  datetime64[ns]\n",
      " 9   AFO_Ende_SOLL              1533180 non-null  datetime64[ns]\n",
      " 10  AFO_Start_IST              1533180 non-null  datetime64[ns]\n",
      " 11  AFO_Ende_IST               1533180 non-null  datetime64[ns]\n",
      " 12  MaschinenID                1232615 non-null  object        \n",
      " 13  Maschinenbezeichnung       541201 non-null   object        \n",
      " 14  Maschinenkapazität         540431 non-null   float64       \n",
      "dtypes: datetime64[ns](6), float64(1), int64(3), object(5)\n",
      "memory usage: 187.2+ MB\n"
     ]
    }
   ],
   "source": [
    "data_clean.info()"
   ]
  },
  {
   "cell_type": "code",
   "execution_count": 72,
   "id": "7d3fdc6a",
   "metadata": {},
   "outputs": [
    {
     "data": {
      "text/plain": [
       "(Timestamp('2000-01-01 00:00:00'), Timestamp('2100-01-01 00:00:00'))"
      ]
     },
     "execution_count": 72,
     "metadata": {},
     "output_type": "execute_result"
    }
   ],
   "source": [
    "data_clean[\"AFO_Start_IST\"].min(), data_clean[\"AFO_Ende_IST\"].max()\n"
   ]
  },
  {
   "cell_type": "code",
   "execution_count": 73,
   "id": "53fdd7f6",
   "metadata": {},
   "outputs": [
    {
     "name": "stdout",
     "output_type": "stream",
     "text": [
      "AFO_Start_IST == 2000-01-01     294\n",
      "AFO_Start_IST == 2100-01-01    4608\n",
      "AFO_Ende_IST == 2000-01-01        0\n",
      "AFO_Ende_IST == 2100-01-01     4648\n",
      "dtype: int64\n"
     ]
    }
   ],
   "source": [
    "placeholder_counts = pd.Series({\n",
    "    \"AFO_Start_IST == 2000-01-01\": (data[\"AFO_Start_IST\"] == pd.Timestamp(\"2000-01-01\")).sum(),\n",
    "    \"AFO_Start_IST == 2100-01-01\": (data[\"AFO_Start_IST\"] == pd.Timestamp(\"2100-01-01\")).sum(),\n",
    "    \"AFO_Ende_IST == 2000-01-01\": (data[\"AFO_Ende_IST\"] == pd.Timestamp(\"2000-01-01\")).sum(),\n",
    "    \"AFO_Ende_IST == 2100-01-01\": (data[\"AFO_Ende_IST\"] == pd.Timestamp(\"2100-01-01\")).sum()\n",
    "})\n",
    "\n",
    "print(placeholder_counts)"
   ]
  },
  {
   "cell_type": "code",
   "execution_count": 74,
   "id": "20770a6b",
   "metadata": {},
   "outputs": [
    {
     "name": "stdout",
     "output_type": "stream",
     "text": [
      "Entfernte Zeilen mit 2100-01-01: 4942\n",
      "Verbleibende Zeilen: 1528238\n",
      "0\n",
      "0\n",
      "0\n"
     ]
    }
   ],
   "source": [
    "mask_future = (\n",
    "    (data[\"AFO_Start_IST\"] == pd.Timestamp(\"2100-01-01\")) |\n",
    "    (data[\"AFO_Start_IST\"] == pd.Timestamp(\"2000-01-01\")) |\n",
    "    (data[\"AFO_Ende_IST\"] == pd.Timestamp(\"2100-01-01\"))\n",
    ")\n",
    "\n",
    "data_no_future = data_clean.loc[~mask_future].copy()\n",
    "\n",
    "print(f\"Entfernte Zeilen mit 2100-01-01: {mask_future.sum()}\")\n",
    "print(f\"Verbleibende Zeilen: {len(data_no_future)}\")\n",
    "print((data_no_future[\"AFO_Start_IST\"] == pd.Timestamp(\"2100-01-01\")).sum())\n",
    "print((data_no_future[\"AFO_Start_IST\"] == pd.Timestamp(\"2000-01-01\")).sum())\n",
    "print((data_no_future[\"AFO_Ende_IST\"] == pd.Timestamp(\"2100-01-01\")).sum())"
   ]
  },
  {
   "cell_type": "code",
   "execution_count": 75,
   "id": "bda877b9",
   "metadata": {},
   "outputs": [
    {
     "data": {
      "text/plain": [
       "np.int64(0)"
      ]
     },
     "execution_count": 75,
     "metadata": {},
     "output_type": "execute_result"
    }
   ],
   "source": [
    "(data_no_future[\"AFO_Ende_IST\"] < data_no_future[\"AFO_Start_IST\"]).sum()"
   ]
  },
  {
   "cell_type": "code",
   "execution_count": 76,
   "id": "a4f1ffe0",
   "metadata": {},
   "outputs": [
    {
     "data": {
      "text/plain": [
       "np.int64(0)"
      ]
     },
     "execution_count": 76,
     "metadata": {},
     "output_type": "execute_result"
    }
   ],
   "source": [
    "(data_no_future[\"AFO_Ende_SOLL\"] < data_no_future[\"AFO_Start_SOLL\"]).sum()"
   ]
  },
  {
   "cell_type": "code",
   "execution_count": 77,
   "id": "b5b43eec",
   "metadata": {},
   "outputs": [
    {
     "data": {
      "text/plain": [
       "(Timestamp('2014-01-01 07:00:00'), Timestamp('2024-08-02 15:00:00'))"
      ]
     },
     "execution_count": 77,
     "metadata": {},
     "output_type": "execute_result"
    }
   ],
   "source": [
    "data_no_future[\"AFO_Start_IST\"].min(), data_no_future[\"AFO_Ende_IST\"].max()"
   ]
  },
  {
   "cell_type": "code",
   "execution_count": 78,
   "id": "802a00e9",
   "metadata": {},
   "outputs": [],
   "source": [
    "data_no_future = data_no_future.reset_index(drop=True)"
   ]
  },
  {
   "cell_type": "code",
   "execution_count": 79,
   "id": "73b4306a",
   "metadata": {},
   "outputs": [
    {
     "name": "stdout",
     "output_type": "stream",
     "text": [
      "<class 'pandas.core.frame.DataFrame'>\n",
      "RangeIndex: 1528238 entries, 0 to 1528237\n",
      "Data columns (total 15 columns):\n",
      " #   Column                     Non-Null Count    Dtype         \n",
      "---  ------                     --------------    -----         \n",
      " 0   AuftragsID                 1528238 non-null  object        \n",
      " 1   BauteilID                  1528238 non-null  int64         \n",
      " 2   Bauteilbezeichnung         1528238 non-null  object        \n",
      " 3   Auftragseingang            1528238 non-null  datetime64[ns]\n",
      " 4   Priorität                  1528238 non-null  int64         \n",
      " 5   Auftragsende_SOLL          1528238 non-null  datetime64[ns]\n",
      " 6   Arbeitsschritt             1528238 non-null  int64         \n",
      " 7   Arbeitsschrittbezeichnung  1528238 non-null  object        \n",
      " 8   AFO_Start_SOLL             1528238 non-null  datetime64[ns]\n",
      " 9   AFO_Ende_SOLL              1528238 non-null  datetime64[ns]\n",
      " 10  AFO_Start_IST              1528238 non-null  datetime64[ns]\n",
      " 11  AFO_Ende_IST               1528238 non-null  datetime64[ns]\n",
      " 12  MaschinenID                1228694 non-null  object        \n",
      " 13  Maschinenbezeichnung       539418 non-null   object        \n",
      " 14  Maschinenkapazität         538654 non-null   float64       \n",
      "dtypes: datetime64[ns](6), float64(1), int64(3), object(5)\n",
      "memory usage: 174.9+ MB\n"
     ]
    }
   ],
   "source": [
    "data_no_future.info()"
   ]
  },
  {
   "cell_type": "code",
   "execution_count": 80,
   "id": "a5ff26d8",
   "metadata": {},
   "outputs": [
    {
     "data": {
      "text/plain": [
       "Maschinenbezeichnung\n",
       "Fronius        155119\n",
       "EWM            143366\n",
       "Deckel Maho    140803\n",
       "DMG Mori        86037\n",
       "Lorch           13317\n",
       "XXX               776\n",
       "Name: count, dtype: int64"
      ]
     },
     "execution_count": 80,
     "metadata": {},
     "output_type": "execute_result"
    }
   ],
   "source": [
    "\n",
    "data_no_future[\"Maschinenbezeichnung\"].value_counts().head(10)\n"
   ]
  },
  {
   "cell_type": "code",
   "execution_count": 81,
   "id": "23b6d99d",
   "metadata": {},
   "outputs": [
    {
     "data": {
      "text/plain": [
       "Bauteilbezeichnung\n",
       "Schwenkzylinder      0.564233\n",
       "Steuerventilmodul    0.402727\n",
       "Daempfungseinheit    0.033041\n",
       "Name: proportion, dtype: float64"
      ]
     },
     "execution_count": 81,
     "metadata": {},
     "output_type": "execute_result"
    }
   ],
   "source": [
    "data_no_future[\"Bauteilbezeichnung\"].value_counts(normalize=True)\n"
   ]
  },
  {
   "cell_type": "code",
   "execution_count": 82,
   "id": "f8b6d948",
   "metadata": {},
   "outputs": [
    {
     "data": {
      "text/plain": [
       "Arbeitsschrittbezeichnung\n",
       "Transport                 689276\n",
       "Info                      152590\n",
       "End                       147718\n",
       "Mechanisch Bearbeiten      79189\n",
       "Richten                    79145\n",
       "Aufspannen                 79124\n",
       "Abspannen-Nacharbeiten     76356\n",
       "Schweißen                  66778\n",
       "Heften-Schweißen           66715\n",
       "Nachschweißen              64459\n",
       "manuelle Nacharbeit        13106\n",
       "Verputzen-Aufspannen        6892\n",
       "Lackieren                   6890\n",
       "Name: count, dtype: int64"
      ]
     },
     "execution_count": 82,
     "metadata": {},
     "output_type": "execute_result"
    }
   ],
   "source": [
    "data_no_future[\"Arbeitsschrittbezeichnung\"].value_counts().head(15)"
   ]
  },
  {
   "cell_type": "code",
   "execution_count": 83,
   "id": "5a9173d8",
   "metadata": {},
   "outputs": [
    {
     "name": "stdout",
     "output_type": "stream",
     "text": [
      "<class 'pandas.core.frame.DataFrame'>\n",
      "RangeIndex: 1528238 entries, 0 to 1528237\n",
      "Data columns (total 15 columns):\n",
      " #   Column                     Non-Null Count    Dtype         \n",
      "---  ------                     --------------    -----         \n",
      " 0   AuftragsID                 1528238 non-null  object        \n",
      " 1   BauteilID                  1528238 non-null  int64         \n",
      " 2   Bauteilbezeichnung         1528238 non-null  object        \n",
      " 3   Auftragseingang            1528238 non-null  datetime64[ns]\n",
      " 4   Priorität                  1528238 non-null  int64         \n",
      " 5   Auftragsende_SOLL          1528238 non-null  datetime64[ns]\n",
      " 6   Arbeitsschritt             1528238 non-null  int64         \n",
      " 7   Arbeitsschrittbezeichnung  1528238 non-null  object        \n",
      " 8   AFO_Start_SOLL             1528238 non-null  datetime64[ns]\n",
      " 9   AFO_Ende_SOLL              1528238 non-null  datetime64[ns]\n",
      " 10  AFO_Start_IST              1528238 non-null  datetime64[ns]\n",
      " 11  AFO_Ende_IST               1528238 non-null  datetime64[ns]\n",
      " 12  MaschinenID                1228694 non-null  object        \n",
      " 13  Maschinenbezeichnung       539418 non-null   object        \n",
      " 14  Maschinenkapazität         538654 non-null   float64       \n",
      "dtypes: datetime64[ns](6), float64(1), int64(3), object(5)\n",
      "memory usage: 174.9+ MB\n"
     ]
    }
   ],
   "source": [
    "data_no_future.info()"
   ]
  },
  {
   "cell_type": "code",
   "execution_count": 84,
   "id": "f194048e",
   "metadata": {},
   "outputs": [],
   "source": [
    "data_no_future = data_no_future[data_no_future[\"Auftragseingang\"] >= pd.Timestamp(\"2010-01-01\")]"
   ]
  },
  {
   "cell_type": "code",
   "execution_count": 85,
   "id": "cd980c0c",
   "metadata": {},
   "outputs": [
    {
     "name": "stdout",
     "output_type": "stream",
     "text": [
      "AFO_Start_IST == 2000-01-01       0\n",
      "AFO_Start_IST == 2100-01-01       0\n",
      "AFO_Ende_IST == 2000-01-01        0\n",
      "AFO_Ende_IST == 2100-01-01        0\n",
      "Auftragseingang < 2010-01-01      0\n",
      "Auftragsende_SOLL > 2026-01-01    0\n",
      "dtype: int64\n"
     ]
    }
   ],
   "source": [
    "placeholder_counts = pd.Series({\n",
    "    \"AFO_Start_IST == 2000-01-01\": (data_no_future[\"AFO_Start_IST\"] == pd.Timestamp(\"2000-01-01\")).sum(),\n",
    "    \"AFO_Start_IST == 2100-01-01\": (data_no_future[\"AFO_Start_IST\"] == pd.Timestamp(\"2100-01-01\")).sum(),\n",
    "    \"AFO_Ende_IST == 2000-01-01\": (data_no_future[\"AFO_Ende_IST\"] == pd.Timestamp(\"2000-01-01\")).sum(),\n",
    "    \"AFO_Ende_IST == 2100-01-01\": (data_no_future[\"AFO_Ende_IST\"] == pd.Timestamp(\"2100-01-01\")).sum(),\n",
    "    \"Auftragseingang < 2010-01-01\": (data_no_future[\"Auftragseingang\"] < pd.Timestamp(\"2010-01-01\")).sum(),\n",
    "    \"Auftragsende_SOLL > 2026-01-01\": (data_no_future[\"Auftragseingang\"] > pd.Timestamp(\"2026-01-01\")).sum()\n",
    "     \n",
    "\n",
    "\n",
    "})\n",
    "\n",
    "print(placeholder_counts)"
   ]
  },
  {
   "cell_type": "code",
   "execution_count": 86,
   "id": "e4780b0a",
   "metadata": {},
   "outputs": [],
   "source": [
    "data_no_future.to_csv('../data/processed/data_cleaned_timestamp_1.csv', index=False)"
   ]
  }
 ],
 "metadata": {
  "kernelspec": {
   "display_name": "venv",
   "language": "python",
   "name": "python3"
  },
  "language_info": {
   "codemirror_mode": {
    "name": "ipython",
    "version": 3
   },
   "file_extension": ".py",
   "mimetype": "text/x-python",
   "name": "python",
   "nbconvert_exporter": "python",
   "pygments_lexer": "ipython3",
   "version": "3.12.0"
  }
 },
 "nbformat": 4,
 "nbformat_minor": 5
}
